{
 "cells": [
  {
   "cell_type": "code",
   "execution_count": 3,
   "metadata": {},
   "outputs": [],
   "source": [
    "import numpy as np"
   ]
  },
  {
   "cell_type": "code",
   "execution_count": 4,
   "metadata": {},
   "outputs": [],
   "source": [
    "a1 = np.array([1,2,3])"
   ]
  },
  {
   "cell_type": "code",
   "execution_count": 5,
   "metadata": {},
   "outputs": [
    {
     "data": {
      "text/plain": [
       "(numpy.ndarray, array([1, 2, 3]))"
      ]
     },
     "execution_count": 5,
     "metadata": {},
     "output_type": "execute_result"
    }
   ],
   "source": [
    "type(a1) , a1"
   ]
  },
  {
   "cell_type": "code",
   "execution_count": 6,
   "metadata": {},
   "outputs": [
    {
     "data": {
      "text/plain": [
       "array([0, 2, 4, 6, 8])"
      ]
     },
     "execution_count": 6,
     "metadata": {},
     "output_type": "execute_result"
    }
   ],
   "source": [
    "a2 = np.arange(0,10,2)\n",
    "a2"
   ]
  },
  {
   "cell_type": "code",
   "execution_count": 7,
   "metadata": {},
   "outputs": [
    {
     "data": {
      "text/plain": [
       "array([[ 9, 15, 64, 28, 89, 93, 29,  8, 73,  0],\n",
       "       [40, 36, 16, 11, 54, 88, 62, 33, 72, 78],\n",
       "       [49, 51, 54, 77, 69, 13, 25, 13, 92, 86],\n",
       "       [30, 30, 89, 12, 65, 31, 57, 36, 27, 18],\n",
       "       [93, 77, 22, 23, 94, 11, 28, 74, 88,  9],\n",
       "       [15, 18, 80, 71, 88, 11, 17, 46,  7, 75],\n",
       "       [28, 33, 84, 96, 88, 44,  5,  4, 71, 88],\n",
       "       [88, 50, 54, 34, 15, 77, 88, 15,  6, 85],\n",
       "       [22, 11, 12, 92, 96, 62, 57, 79, 42, 57],\n",
       "       [97, 50, 45, 40, 89, 73, 37,  0, 18, 23],\n",
       "       [ 3, 29, 16, 84, 82, 14, 51, 79, 17, 50],\n",
       "       [53, 25, 48, 17, 32, 81, 80, 41, 90, 12],\n",
       "       [30, 81, 17, 16,  0, 31, 73, 64, 38, 22],\n",
       "       [96, 66, 67, 62, 95, 99, 27, 82, 62, 77],\n",
       "       [48, 93, 75, 86, 37, 11, 21, 33, 95, 43],\n",
       "       [88, 96, 73, 40, 43, 90, 71,  8, 85, 72],\n",
       "       [28, 30, 89, 25, 78, 81, 85, 62, 13, 41],\n",
       "       [33,  4, 87, 94, 28, 39, 91,  9,  7, 22],\n",
       "       [32,  3,  9, 52, 76, 68, 30, 70, 74, 30],\n",
       "       [ 9,  2, 65, 13, 75, 52,  5, 93, 84, 48]])"
      ]
     },
     "execution_count": 7,
     "metadata": {},
     "output_type": "execute_result"
    }
   ],
   "source": [
    "np.random.seed(10)\n",
    "\n",
    "a3 = np.random.randint(0,100,(20,10))\n",
    "a3"
   ]
  },
  {
   "cell_type": "code",
   "execution_count": 8,
   "metadata": {},
   "outputs": [
    {
     "data": {
      "text/plain": [
       "array([[0, 0, 0, 0, 0, 0, 0, 0, 0, 0],\n",
       "       [0, 0, 0, 0, 0, 0, 0, 0, 0, 0],\n",
       "       [0, 0, 0, 0, 0, 0, 0, 0, 0, 0],\n",
       "       [0, 0, 0, 0, 0, 0, 0, 0, 0, 0],\n",
       "       [0, 0, 0, 0, 0, 0, 0, 0, 0, 0],\n",
       "       [0, 0, 0, 0, 0, 0, 0, 0, 0, 0],\n",
       "       [0, 0, 0, 0, 0, 0, 0, 0, 0, 0],\n",
       "       [0, 0, 0, 0, 0, 0, 0, 0, 0, 0],\n",
       "       [0, 0, 0, 0, 0, 0, 0, 0, 0, 0],\n",
       "       [0, 0, 0, 0, 0, 0, 0, 0, 0, 0]])"
      ]
     },
     "execution_count": 8,
     "metadata": {},
     "output_type": "execute_result"
    }
   ],
   "source": [
    "zeros = np.zeros((10,10),int)\n",
    "zeros"
   ]
  },
  {
   "cell_type": "code",
   "execution_count": 9,
   "metadata": {},
   "outputs": [
    {
     "data": {
      "text/plain": [
       "array([[1., 1., 1., 1., 1.],\n",
       "       [1., 1., 1., 1., 1.],\n",
       "       [1., 1., 1., 1., 1.],\n",
       "       [1., 1., 1., 1., 1.],\n",
       "       [1., 1., 1., 1., 1.]])"
      ]
     },
     "execution_count": 9,
     "metadata": {},
     "output_type": "execute_result"
    }
   ],
   "source": [
    "ones = np.ones((5,5))\n",
    "ones"
   ]
  },
  {
   "cell_type": "code",
   "execution_count": 10,
   "metadata": {},
   "outputs": [
    {
     "data": {
      "text/plain": [
       "array([[9, 4, 0, 1, 9, 0, 1, 8, 9, 0],\n",
       "       [8, 6, 4, 3, 0, 4, 6, 8, 1, 8],\n",
       "       [4, 1, 3, 6, 5, 3, 9, 6, 9, 1],\n",
       "       [9, 4, 2, 6, 7, 8, 8, 9, 2, 0],\n",
       "       [6, 7, 8, 1, 7, 1, 4, 0, 8, 5],\n",
       "       [4, 7, 8, 8, 2, 6, 2, 8, 8, 6],\n",
       "       [6, 5, 6, 0, 0, 6, 9, 1, 8, 9],\n",
       "       [1, 2, 8, 9, 9, 5, 0, 2, 7, 3],\n",
       "       [0, 4, 2, 0, 3, 3, 1, 2, 5, 9],\n",
       "       [0, 1, 0, 1, 9, 0, 9, 2, 1, 1]])"
      ]
     },
     "execution_count": 10,
     "metadata": {},
     "output_type": "execute_result"
    }
   ],
   "source": [
    "np.random.seed(10)\n",
    "mat = np.random.randint(0,10,(10,10))\n",
    "mat"
   ]
  },
  {
   "cell_type": "code",
   "execution_count": 13,
   "metadata": {},
   "outputs": [
    {
     "data": {
      "text/plain": [
       "array([9, 8, 4, 9, 6, 4, 6, 1, 0, 0])"
      ]
     },
     "execution_count": 13,
     "metadata": {},
     "output_type": "execute_result"
    }
   ],
   "source": [
    "mat[:,0]"
   ]
  },
  {
   "cell_type": "code",
   "execution_count": 14,
   "metadata": {},
   "outputs": [],
   "source": [
    "mat[4:9,3:7] = 0"
   ]
  },
  {
   "cell_type": "code",
   "execution_count": 15,
   "metadata": {},
   "outputs": [
    {
     "data": {
      "text/plain": [
       "array([[9, 4, 0, 1, 9, 0, 1, 8, 9, 0],\n",
       "       [8, 6, 4, 3, 0, 4, 6, 8, 1, 8],\n",
       "       [4, 1, 3, 6, 5, 3, 9, 6, 9, 1],\n",
       "       [9, 4, 2, 6, 7, 8, 8, 9, 2, 0],\n",
       "       [6, 7, 8, 0, 0, 0, 0, 0, 8, 5],\n",
       "       [4, 7, 8, 0, 0, 0, 0, 8, 8, 6],\n",
       "       [6, 5, 6, 0, 0, 0, 0, 1, 8, 9],\n",
       "       [1, 2, 8, 0, 0, 0, 0, 2, 7, 3],\n",
       "       [0, 4, 2, 0, 0, 0, 0, 2, 5, 9],\n",
       "       [0, 1, 0, 1, 9, 0, 9, 2, 1, 1]])"
      ]
     },
     "execution_count": 15,
     "metadata": {},
     "output_type": "execute_result"
    }
   ],
   "source": [
    "mat"
   ]
  },
  {
   "cell_type": "code",
   "execution_count": 51,
   "metadata": {},
   "outputs": [
    {
     "data": {
      "text/plain": [
       "array([[9, 4, 0, 1, 9, 0, 1, 8, 9, 0],\n",
       "       [8, 6, 4, 3, 0, 4, 6, 8, 1, 8],\n",
       "       [4, 1, 3, 6, 5, 3, 9, 6, 9, 1],\n",
       "       [9, 4, 2, 6, 7, 8, 8, 9, 2, 0],\n",
       "       [6, 7, 8, 0, 0, 0, 0, 0, 8, 5],\n",
       "       [4, 7, 8, 0, 0, 0, 0, 8, 8, 6],\n",
       "       [6, 5, 6, 0, 0, 0, 0, 1, 8, 9],\n",
       "       [1, 2, 8, 0, 0, 0, 0, 2, 7, 3],\n",
       "       [0, 4, 2, 0, 0, 0, 0, 2, 5, 9],\n",
       "       [0, 1, 0, 1, 9, 0, 9, 2, 1, 1]])"
      ]
     },
     "execution_count": 51,
     "metadata": {},
     "output_type": "execute_result"
    }
   ],
   "source": [
    "mat1 = mat.copy()\n",
    "mat1"
   ]
  },
  {
   "cell_type": "code",
   "execution_count": 16,
   "metadata": {},
   "outputs": [
    {
     "data": {
      "text/plain": [
       "9"
      ]
     },
     "execution_count": 16,
     "metadata": {},
     "output_type": "execute_result"
    }
   ],
   "source": [
    "mat.max()"
   ]
  },
  {
   "cell_type": "code",
   "execution_count": 17,
   "metadata": {},
   "outputs": [
    {
     "data": {
      "text/plain": [
       "0"
      ]
     },
     "execution_count": 17,
     "metadata": {},
     "output_type": "execute_result"
    }
   ],
   "source": [
    "mat.argmax()"
   ]
  },
  {
   "cell_type": "code",
   "execution_count": 18,
   "metadata": {},
   "outputs": [
    {
     "data": {
      "text/plain": [
       "0"
      ]
     },
     "execution_count": 18,
     "metadata": {},
     "output_type": "execute_result"
    }
   ],
   "source": [
    "mat.min()"
   ]
  },
  {
   "cell_type": "code",
   "execution_count": 19,
   "metadata": {},
   "outputs": [
    {
     "data": {
      "text/plain": [
       "2"
      ]
     },
     "execution_count": 19,
     "metadata": {},
     "output_type": "execute_result"
    }
   ],
   "source": [
    "mat.argmin()"
   ]
  },
  {
   "cell_type": "code",
   "execution_count": 20,
   "metadata": {},
   "outputs": [
    {
     "data": {
      "text/plain": [
       "3.7"
      ]
     },
     "execution_count": 20,
     "metadata": {},
     "output_type": "execute_result"
    }
   ],
   "source": [
    "mat.mean()"
   ]
  },
  {
   "cell_type": "code",
   "execution_count": null,
   "metadata": {},
   "outputs": [],
   "source": []
  },
  {
   "cell_type": "code",
   "execution_count": null,
   "metadata": {},
   "outputs": [],
   "source": []
  }
 ],
 "metadata": {
  "kernelspec": {
   "display_name": "Python 3",
   "language": "python",
   "name": "python3"
  },
  "language_info": {
   "codemirror_mode": {
    "name": "ipython",
    "version": 3
   },
   "file_extension": ".py",
   "mimetype": "text/x-python",
   "name": "python",
   "nbconvert_exporter": "python",
   "pygments_lexer": "ipython3",
   "version": "3.7.7"
  }
 },
 "nbformat": 4,
 "nbformat_minor": 2
}
